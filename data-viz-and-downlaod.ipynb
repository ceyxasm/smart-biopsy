{
  "cells": [
    {
      "cell_type": "code",
      "execution_count": 4,
      "id": "czFPX7nFXpc4",
      "metadata": {
        "colab": {
          "base_uri": "https://localhost:8080/"
        },
        "id": "czFPX7nFXpc4",
        "outputId": "2054e864-3b3e-4dbb-e9b9-eb1335e5ca99"
      },
      "outputs": [
        {
          "name": "stdout",
          "output_type": "stream",
          "text": [
            "Mounted at /content/drive\n"
          ]
        }
      ],
      "source": [
        "from google.colab import drive\n",
        "drive.mount('/content/drive')"
      ]
    },
    {
      "cell_type": "markdown",
      "id": "bqulqBEDMSS6",
      "metadata": {
        "id": "bqulqBEDMSS6"
      },
      "source": [
        "# 2 Setup\n",
        "\n",
        "The following installs and imports **[tcia_utils](https://pypi.org/project/tcia-utils/)**, which contains a variety of useful functions for accessing TCIA via Python and Juptyter Notebooks.  It also ensures that the necessary imports are performed and logging settings are adjusted for Google Colab."
      ]
    },
    {
      "cell_type": "code",
      "execution_count": 5,
      "id": "YPrZ5pc-yYQl",
      "metadata": {
        "colab": {
          "base_uri": "https://localhost:8080/"
        },
        "id": "YPrZ5pc-yYQl",
        "outputId": "9ae15c12-1ffc-4978-beb5-63c1178a6c96"
      },
      "outputs": [
        {
          "name": "stdout",
          "output_type": "stream",
          "text": [
            "\u001b[?25l   \u001b[90m━━━━━━━━━━━━━━━━━━━━━━━━━━━━━━━━━━━━━━━━\u001b[0m \u001b[32m0.0/235.5 kB\u001b[0m \u001b[31m?\u001b[0m eta \u001b[36m-:--:--\u001b[0m\r\u001b[2K   \u001b[90m━━━━━━━━━━━━━━━━━━━━━━━━━━━━━━━━━━━━━━━━\u001b[0m \u001b[32m235.5/235.5 kB\u001b[0m \u001b[31m6.7 MB/s\u001b[0m eta \u001b[36m0:00:00\u001b[0m\n",
            "\u001b[2K   \u001b[90m━━━━━━━━━━━━━━━━━━━━━━━━━━━━━━━━━━━━━━━━\u001b[0m \u001b[32m56.3/56.3 kB\u001b[0m \u001b[31m4.3 MB/s\u001b[0m eta \u001b[36m0:00:00\u001b[0m\n",
            "\u001b[2K   \u001b[90m━━━━━━━━━━━━━━━━━━━━━━━━━━━━━━━━━━━━━━━━\u001b[0m \u001b[32m52.7/52.7 MB\u001b[0m \u001b[31m20.0 MB/s\u001b[0m eta \u001b[36m0:00:00\u001b[0m\n",
            "\u001b[2K   \u001b[90m━━━━━━━━━━━━━━━━━━━━━━━━━━━━━━━━━━━━━━━━\u001b[0m \u001b[32m1.6/1.6 MB\u001b[0m \u001b[31m46.9 MB/s\u001b[0m eta \u001b[36m0:00:00\u001b[0m\n",
            "\u001b[2K   \u001b[90m━━━━━━━━━━━━━━━━━━━━━━━━━━━━━━━━━━━━━━━━\u001b[0m \u001b[32m117.7/117.7 kB\u001b[0m \u001b[31m9.6 MB/s\u001b[0m eta \u001b[36m0:00:00\u001b[0m\n",
            "\u001b[?25h"
          ]
        }
      ],
      "source": [
        "import sys\n",
        "\n",
        "# install tcia utils\n",
        "!{sys.executable} -m pip install --upgrade -q tcia_utils\n",
        "!pip install pydicom"
      ]
    },
    {
      "cell_type": "code",
      "execution_count": null,
      "id": "LaKRUf-GJ_4C",
      "metadata": {
        "colab": {
          "base_uri": "https://localhost:8080/"
        },
        "id": "LaKRUf-GJ_4C",
        "outputId": "30d74456-6d42-423e-e9c8-42cf7237a82f",
        "tags": []
      },
      "outputs": [
        {
          "ename": "",
          "evalue": "",
          "output_type": "error",
          "traceback": [
            "\u001b[1;31mThe kernel failed to start as the Python Environment 'smartbio' is no longer available. Consider selecting another kernel or refreshing the list of Python Environments."
          ]
        }
      ],
      "source": [
        "import requests\n",
        "import pandas as pd\n",
        "from tcia_utils import nbia\n",
        "\n",
        "# set logging level to INFO in Google Colab (not necessary in Jupyter)\n",
        "if 'google.colab' in sys.modules:\n",
        "  import logging\n",
        "\n",
        "  for handler in logging.root.handlers[:]:\n",
        "      logging.root.removeHandler(handler)\n",
        "\n",
        "  # Set handler with level = info\n",
        "  logging.basicConfig(format='%(asctime)s:%(levelname)s:%(message)s',\n",
        "                      level=logging.INFO)\n",
        "\n",
        "  print(\"Google Colab Logging set to INFO\")"
      ]
    },
    {
      "cell_type": "markdown",
      "id": "ntPetyDFNaew",
      "metadata": {
        "id": "ntPetyDFNaew"
      },
      "source": [
        "# 4 Download and visualize a sample DICOM RTSTRUCT\n",
        "RTSTRUCT is another common format used to save segmentations.  Let's take a look at the [Annotations for The Clinical Proteomic Tumor Analysis Consortium Pancreatic Ductal Adenocarcinoma Collection (CPTAC-PDA-Tumor-Annotations) dataset](https://doi.org/10.7937/BW9V-BX61) as an example.  This [Analysis Result](https://www.cancerimagingarchive.net/tcia-analysis-results/) dataset analyzed images from the [CPTAC-PDA](https://doi.org/10.7937/K9/TCIA.2018.SC20FO18) collection.\n",
        "\n",
        "This time around, let's use the **modality** parameter in getSeries() to only return the RTSTRUCT series."
      ]
    },
    {
      "cell_type": "code",
      "execution_count": null,
      "id": "7TUxwnmYNYsK",
      "metadata": {
        "id": "7TUxwnmYNYsK"
      },
      "outputs": [],
      "source": [
        "## To get metadata\n",
        "df = nbia.getSeries(collection = \"CPTAC-UCEC\", modality =   \"RTSTRUCT\", format = \"df\")\n"
      ]
    },
    {
      "cell_type": "markdown",
      "id": "HnLV3G7mNYsK",
      "metadata": {
        "id": "HnLV3G7mNYsK"
      },
      "source": [
        "If you look at the Series Description column you'll note that in some cases these RTSTRUCT series are listed as \"seed point\" or \"no finding\".  These ones would not be particularly useful to visualize so let's make sure to avoid those. You can update the code below to use any of the other series UIDs you prefer, but let's start with **1.2.826.0.1.534147.667.2747872357.2023429821032.4** which has a description of **\"Pre-dose, PANCREAS - 1\"**."
      ]
    },
    {
      "cell_type": "code",
      "execution_count": 8,
      "id": "vettaObhNYsL",
      "metadata": {
        "id": "vettaObhNYsL"
      },
      "outputs": [],
      "source": [
        "segSeries = \"1.2.826.0.1.534147.756.812677238.202323194447456\""
      ]
    },
    {
      "cell_type": "markdown",
      "id": "1v-GBguFNYsL",
      "metadata": {
        "id": "1v-GBguFNYsL"
      },
      "source": [
        "Next, let's determine the Reference Series Instance UID of the CT scan that goes with the segmentation."
      ]
    },
    {
      "cell_type": "code",
      "execution_count": 9,
      "id": "sbDQNm4bNYsL",
      "metadata": {
        "colab": {
          "base_uri": "https://localhost:8080/"
        },
        "id": "sbDQNm4bNYsL",
        "outputId": "60e7873e-2517-4a85-d5e9-3cec22b1d0d1"
      },
      "outputs": [
        {
          "name": "stderr",
          "output_type": "stream",
          "text": [
            "2024-07-30 06:50:34,352:INFO:Success - Token saved to api_call_headers variable and expires at 2024-07-30 08:50:34.352279\n",
            "2024-07-30 06:50:34,356:INFO:Accessing Advanced API anonymously. To access restricted data use nbia.getToken() with your credentials.\n",
            "2024-07-30 06:50:34,359:INFO:Calling... https://services.cancerimagingarchive.net/nbia-api/services/getDicomTags with parameters {'SeriesUID': '1.2.826.0.1.534147.756.812677238.202323194447456'}\n"
          ]
        },
        {
          "name": "stdout",
          "output_type": "stream",
          "text": [
            "1.3.6.1.4.1.14519.5.2.1.6450.2626.646366290968362266256965356421\n"
          ]
        }
      ],
      "source": [
        "refSeries = nbia.getSegRefSeries(segSeries)\n",
        "\n",
        "print(refSeries)"
      ]
    },
    {
      "cell_type": "markdown",
      "id": "QeftUEEFNYsL",
      "metadata": {
        "id": "QeftUEEFNYsL"
      },
      "source": [
        "Now let's download these two series.  "
      ]
    },
    {
      "cell_type": "code",
      "execution_count": 10,
      "id": "iT7n0ahDNYsL",
      "metadata": {
        "colab": {
          "base_uri": "https://localhost:8080/",
          "height": 439
        },
        "id": "iT7n0ahDNYsL",
        "outputId": "58c35ce9-0c3f-493d-ce47-024f52d2662c"
      },
      "outputs": [
        {
          "name": "stderr",
          "output_type": "stream",
          "text": [
            "2024-07-30 06:50:34,778:INFO:Downloading 2 Series Instance UIDs (scans).\n",
            "2024-07-30 06:50:34,783:INFO:Downloading... https://services.cancerimagingarchive.net/nbia-api/services/v1/getImage?NewFileNames=Yes&SeriesInstanceUID=1.3.6.1.4.1.14519.5.2.1.6450.2626.646366290968362266256965356421\n",
            "2024-07-30 06:53:58,172:INFO:Downloading... https://services.cancerimagingarchive.net/nbia-api/services/v1/getImage?NewFileNames=Yes&SeriesInstanceUID=1.2.826.0.1.534147.756.812677238.202323194447456\n",
            "2024-07-30 06:53:58,791:INFO:Downloaded 2 out of 2 Series Instance UIDs (scans).\n",
            "0 failed to download.\n",
            "0 previously downloaded.\n"
          ]
        },
        {
          "data": {
            "application/vnd.google.colaboratory.intrinsic+json": {
              "type": "dataframe"
            },
            "text/html": [
              "\n",
              "  <div id=\"df-86f1ce6a-0e8c-405e-8061-a00fef9ad37e\" class=\"colab-df-container\">\n",
              "    <div>\n",
              "<style scoped>\n",
              "    .dataframe tbody tr th:only-of-type {\n",
              "        vertical-align: middle;\n",
              "    }\n",
              "\n",
              "    .dataframe tbody tr th {\n",
              "        vertical-align: top;\n",
              "    }\n",
              "\n",
              "    .dataframe thead th {\n",
              "        text-align: right;\n",
              "    }\n",
              "</style>\n",
              "<table border=\"1\" class=\"dataframe\">\n",
              "  <thead>\n",
              "    <tr style=\"text-align: right;\">\n",
              "      <th></th>\n",
              "      <th>Series UID</th>\n",
              "      <th>Collection</th>\n",
              "      <th>Data Description URI</th>\n",
              "      <th>Subject ID</th>\n",
              "      <th>Study UID</th>\n",
              "      <th>Study Description</th>\n",
              "      <th>Study Date</th>\n",
              "      <th>Series Description</th>\n",
              "      <th>Manufacturer</th>\n",
              "      <th>Modality</th>\n",
              "      <th>...</th>\n",
              "      <th>Annotation Size</th>\n",
              "      <th>Date Released</th>\n",
              "      <th>Series Date</th>\n",
              "      <th>Protocol Name</th>\n",
              "      <th>Annotations Flag</th>\n",
              "      <th>Manufacturer Model Name</th>\n",
              "      <th>Software Versions</th>\n",
              "      <th>TimeStamp</th>\n",
              "      <th>3rd Party Analysis</th>\n",
              "      <th>Body Part Examined</th>\n",
              "    </tr>\n",
              "  </thead>\n",
              "  <tbody>\n",
              "    <tr>\n",
              "      <th>0</th>\n",
              "      <td>1.3.6.1.4.1.14519.5.2.1.6450.2626.646366290968...</td>\n",
              "      <td>CPTAC-UCEC</td>\n",
              "      <td>https://doi.org/10.7937/K9/TCIA.2018.3R3JUISW</td>\n",
              "      <td>C3L-00771</td>\n",
              "      <td>1.3.6.1.4.1.14519.5.2.1.6450.2626.142781207978...</td>\n",
              "      <td>CT ABDOMEN AND PELVIS</td>\n",
              "      <td>06-22-2008</td>\n",
              "      <td>Thins</td>\n",
              "      <td>GE MEDICAL SYSTEMS</td>\n",
              "      <td>CT</td>\n",
              "      <td>...</td>\n",
              "      <td>0</td>\n",
              "      <td>Thu Sep 19 14:51:26 UTC 2019</td>\n",
              "      <td>Sun Jun 22 00:00:00 UTC 2008</td>\n",
              "      <td>6.1 Abdomen Pelvis w/o</td>\n",
              "      <td>false</td>\n",
              "      <td>LightSpeed VCT</td>\n",
              "      <td>gmp_vct.42</td>\n",
              "      <td>Thu Sep 19 14:51:26 UTC 2019</td>\n",
              "      <td>NaN</td>\n",
              "      <td>NaN</td>\n",
              "    </tr>\n",
              "    <tr>\n",
              "      <th>1</th>\n",
              "      <td>1.2.826.0.1.534147.756.812677238.202323194447456</td>\n",
              "      <td>CPTAC-UCEC</td>\n",
              "      <td>https://doi.org/10.7937/89M3-KQ43</td>\n",
              "      <td>C3L-00771</td>\n",
              "      <td>1.3.6.1.4.1.14519.5.2.1.6450.2626.142781207978...</td>\n",
              "      <td>CT ABDOMEN AND PELVIS</td>\n",
              "      <td>06-22-2008</td>\n",
              "      <td>Pre-dose  UTERUS - 1</td>\n",
              "      <td>Open Health Imaging Foundation</td>\n",
              "      <td>RTSTRUCT</td>\n",
              "      <td>...</td>\n",
              "      <td>0</td>\n",
              "      <td>Mon Jul 24 00:00:00 UTC 2023</td>\n",
              "      <td>Fri Mar 31 00:00:00 UTC 2023</td>\n",
              "      <td>NaN</td>\n",
              "      <td>false</td>\n",
              "      <td>OHIF-XNAT Viewer 3.2.0</td>\n",
              "      <td>gmp_vct.42</td>\n",
              "      <td>Fri Jul 14 19:50:39 UTC 2023</td>\n",
              "      <td>yes</td>\n",
              "      <td>ABDOMEN</td>\n",
              "    </tr>\n",
              "  </tbody>\n",
              "</table>\n",
              "<p>2 rows × 26 columns</p>\n",
              "</div>\n",
              "    <div class=\"colab-df-buttons\">\n",
              "\n",
              "  <div class=\"colab-df-container\">\n",
              "    <button class=\"colab-df-convert\" onclick=\"convertToInteractive('df-86f1ce6a-0e8c-405e-8061-a00fef9ad37e')\"\n",
              "            title=\"Convert this dataframe to an interactive table.\"\n",
              "            style=\"display:none;\">\n",
              "\n",
              "  <svg xmlns=\"http://www.w3.org/2000/svg\" height=\"24px\" viewBox=\"0 -960 960 960\">\n",
              "    <path d=\"M120-120v-720h720v720H120Zm60-500h600v-160H180v160Zm220 220h160v-160H400v160Zm0 220h160v-160H400v160ZM180-400h160v-160H180v160Zm440 0h160v-160H620v160ZM180-180h160v-160H180v160Zm440 0h160v-160H620v160Z\"/>\n",
              "  </svg>\n",
              "    </button>\n",
              "\n",
              "  <style>\n",
              "    .colab-df-container {\n",
              "      display:flex;\n",
              "      gap: 12px;\n",
              "    }\n",
              "\n",
              "    .colab-df-convert {\n",
              "      background-color: #E8F0FE;\n",
              "      border: none;\n",
              "      border-radius: 50%;\n",
              "      cursor: pointer;\n",
              "      display: none;\n",
              "      fill: #1967D2;\n",
              "      height: 32px;\n",
              "      padding: 0 0 0 0;\n",
              "      width: 32px;\n",
              "    }\n",
              "\n",
              "    .colab-df-convert:hover {\n",
              "      background-color: #E2EBFA;\n",
              "      box-shadow: 0px 1px 2px rgba(60, 64, 67, 0.3), 0px 1px 3px 1px rgba(60, 64, 67, 0.15);\n",
              "      fill: #174EA6;\n",
              "    }\n",
              "\n",
              "    .colab-df-buttons div {\n",
              "      margin-bottom: 4px;\n",
              "    }\n",
              "\n",
              "    [theme=dark] .colab-df-convert {\n",
              "      background-color: #3B4455;\n",
              "      fill: #D2E3FC;\n",
              "    }\n",
              "\n",
              "    [theme=dark] .colab-df-convert:hover {\n",
              "      background-color: #434B5C;\n",
              "      box-shadow: 0px 1px 3px 1px rgba(0, 0, 0, 0.15);\n",
              "      filter: drop-shadow(0px 1px 2px rgba(0, 0, 0, 0.3));\n",
              "      fill: #FFFFFF;\n",
              "    }\n",
              "  </style>\n",
              "\n",
              "    <script>\n",
              "      const buttonEl =\n",
              "        document.querySelector('#df-86f1ce6a-0e8c-405e-8061-a00fef9ad37e button.colab-df-convert');\n",
              "      buttonEl.style.display =\n",
              "        google.colab.kernel.accessAllowed ? 'block' : 'none';\n",
              "\n",
              "      async function convertToInteractive(key) {\n",
              "        const element = document.querySelector('#df-86f1ce6a-0e8c-405e-8061-a00fef9ad37e');\n",
              "        const dataTable =\n",
              "          await google.colab.kernel.invokeFunction('convertToInteractive',\n",
              "                                                    [key], {});\n",
              "        if (!dataTable) return;\n",
              "\n",
              "        const docLinkHtml = 'Like what you see? Visit the ' +\n",
              "          '<a target=\"_blank\" href=https://colab.research.google.com/notebooks/data_table.ipynb>data table notebook</a>'\n",
              "          + ' to learn more about interactive tables.';\n",
              "        element.innerHTML = '';\n",
              "        dataTable['output_type'] = 'display_data';\n",
              "        await google.colab.output.renderOutput(dataTable, element);\n",
              "        const docLink = document.createElement('div');\n",
              "        docLink.innerHTML = docLinkHtml;\n",
              "        element.appendChild(docLink);\n",
              "      }\n",
              "    </script>\n",
              "  </div>\n",
              "\n",
              "\n",
              "<div id=\"df-b13d7d85-6975-46ed-8775-e300268915f3\">\n",
              "  <button class=\"colab-df-quickchart\" onclick=\"quickchart('df-b13d7d85-6975-46ed-8775-e300268915f3')\"\n",
              "            title=\"Suggest charts\"\n",
              "            style=\"display:none;\">\n",
              "\n",
              "<svg xmlns=\"http://www.w3.org/2000/svg\" height=\"24px\"viewBox=\"0 0 24 24\"\n",
              "     width=\"24px\">\n",
              "    <g>\n",
              "        <path d=\"M19 3H5c-1.1 0-2 .9-2 2v14c0 1.1.9 2 2 2h14c1.1 0 2-.9 2-2V5c0-1.1-.9-2-2-2zM9 17H7v-7h2v7zm4 0h-2V7h2v10zm4 0h-2v-4h2v4z\"/>\n",
              "    </g>\n",
              "</svg>\n",
              "  </button>\n",
              "\n",
              "<style>\n",
              "  .colab-df-quickchart {\n",
              "      --bg-color: #E8F0FE;\n",
              "      --fill-color: #1967D2;\n",
              "      --hover-bg-color: #E2EBFA;\n",
              "      --hover-fill-color: #174EA6;\n",
              "      --disabled-fill-color: #AAA;\n",
              "      --disabled-bg-color: #DDD;\n",
              "  }\n",
              "\n",
              "  [theme=dark] .colab-df-quickchart {\n",
              "      --bg-color: #3B4455;\n",
              "      --fill-color: #D2E3FC;\n",
              "      --hover-bg-color: #434B5C;\n",
              "      --hover-fill-color: #FFFFFF;\n",
              "      --disabled-bg-color: #3B4455;\n",
              "      --disabled-fill-color: #666;\n",
              "  }\n",
              "\n",
              "  .colab-df-quickchart {\n",
              "    background-color: var(--bg-color);\n",
              "    border: none;\n",
              "    border-radius: 50%;\n",
              "    cursor: pointer;\n",
              "    display: none;\n",
              "    fill: var(--fill-color);\n",
              "    height: 32px;\n",
              "    padding: 0;\n",
              "    width: 32px;\n",
              "  }\n",
              "\n",
              "  .colab-df-quickchart:hover {\n",
              "    background-color: var(--hover-bg-color);\n",
              "    box-shadow: 0 1px 2px rgba(60, 64, 67, 0.3), 0 1px 3px 1px rgba(60, 64, 67, 0.15);\n",
              "    fill: var(--button-hover-fill-color);\n",
              "  }\n",
              "\n",
              "  .colab-df-quickchart-complete:disabled,\n",
              "  .colab-df-quickchart-complete:disabled:hover {\n",
              "    background-color: var(--disabled-bg-color);\n",
              "    fill: var(--disabled-fill-color);\n",
              "    box-shadow: none;\n",
              "  }\n",
              "\n",
              "  .colab-df-spinner {\n",
              "    border: 2px solid var(--fill-color);\n",
              "    border-color: transparent;\n",
              "    border-bottom-color: var(--fill-color);\n",
              "    animation:\n",
              "      spin 1s steps(1) infinite;\n",
              "  }\n",
              "\n",
              "  @keyframes spin {\n",
              "    0% {\n",
              "      border-color: transparent;\n",
              "      border-bottom-color: var(--fill-color);\n",
              "      border-left-color: var(--fill-color);\n",
              "    }\n",
              "    20% {\n",
              "      border-color: transparent;\n",
              "      border-left-color: var(--fill-color);\n",
              "      border-top-color: var(--fill-color);\n",
              "    }\n",
              "    30% {\n",
              "      border-color: transparent;\n",
              "      border-left-color: var(--fill-color);\n",
              "      border-top-color: var(--fill-color);\n",
              "      border-right-color: var(--fill-color);\n",
              "    }\n",
              "    40% {\n",
              "      border-color: transparent;\n",
              "      border-right-color: var(--fill-color);\n",
              "      border-top-color: var(--fill-color);\n",
              "    }\n",
              "    60% {\n",
              "      border-color: transparent;\n",
              "      border-right-color: var(--fill-color);\n",
              "    }\n",
              "    80% {\n",
              "      border-color: transparent;\n",
              "      border-right-color: var(--fill-color);\n",
              "      border-bottom-color: var(--fill-color);\n",
              "    }\n",
              "    90% {\n",
              "      border-color: transparent;\n",
              "      border-bottom-color: var(--fill-color);\n",
              "    }\n",
              "  }\n",
              "</style>\n",
              "\n",
              "  <script>\n",
              "    async function quickchart(key) {\n",
              "      const quickchartButtonEl =\n",
              "        document.querySelector('#' + key + ' button');\n",
              "      quickchartButtonEl.disabled = true;  // To prevent multiple clicks.\n",
              "      quickchartButtonEl.classList.add('colab-df-spinner');\n",
              "      try {\n",
              "        const charts = await google.colab.kernel.invokeFunction(\n",
              "            'suggestCharts', [key], {});\n",
              "      } catch (error) {\n",
              "        console.error('Error during call to suggestCharts:', error);\n",
              "      }\n",
              "      quickchartButtonEl.classList.remove('colab-df-spinner');\n",
              "      quickchartButtonEl.classList.add('colab-df-quickchart-complete');\n",
              "    }\n",
              "    (() => {\n",
              "      let quickchartButtonEl =\n",
              "        document.querySelector('#df-b13d7d85-6975-46ed-8775-e300268915f3 button');\n",
              "      quickchartButtonEl.style.display =\n",
              "        google.colab.kernel.accessAllowed ? 'block' : 'none';\n",
              "    })();\n",
              "  </script>\n",
              "</div>\n",
              "\n",
              "    </div>\n",
              "  </div>\n"
            ],
            "text/plain": [
              "                                          Series UID  Collection  \\\n",
              "0  1.3.6.1.4.1.14519.5.2.1.6450.2626.646366290968...  CPTAC-UCEC   \n",
              "1   1.2.826.0.1.534147.756.812677238.202323194447456  CPTAC-UCEC   \n",
              "\n",
              "                            Data Description URI Subject ID  \\\n",
              "0  https://doi.org/10.7937/K9/TCIA.2018.3R3JUISW  C3L-00771   \n",
              "1              https://doi.org/10.7937/89M3-KQ43  C3L-00771   \n",
              "\n",
              "                                           Study UID      Study Description  \\\n",
              "0  1.3.6.1.4.1.14519.5.2.1.6450.2626.142781207978...  CT ABDOMEN AND PELVIS   \n",
              "1  1.3.6.1.4.1.14519.5.2.1.6450.2626.142781207978...  CT ABDOMEN AND PELVIS   \n",
              "\n",
              "   Study Date    Series Description                    Manufacturer  Modality  \\\n",
              "0  06-22-2008                 Thins              GE MEDICAL SYSTEMS        CT   \n",
              "1  06-22-2008  Pre-dose  UTERUS - 1  Open Health Imaging Foundation  RTSTRUCT   \n",
              "\n",
              "   ... Annotation Size                 Date Released  \\\n",
              "0  ...               0  Thu Sep 19 14:51:26 UTC 2019   \n",
              "1  ...               0  Mon Jul 24 00:00:00 UTC 2023   \n",
              "\n",
              "                    Series Date           Protocol Name Annotations Flag  \\\n",
              "0  Sun Jun 22 00:00:00 UTC 2008  6.1 Abdomen Pelvis w/o            false   \n",
              "1  Fri Mar 31 00:00:00 UTC 2023                     NaN            false   \n",
              "\n",
              "  Manufacturer Model Name Software Versions                     TimeStamp  \\\n",
              "0          LightSpeed VCT        gmp_vct.42  Thu Sep 19 14:51:26 UTC 2019   \n",
              "1  OHIF-XNAT Viewer 3.2.0        gmp_vct.42  Fri Jul 14 19:50:39 UTC 2023   \n",
              "\n",
              "  3rd Party Analysis Body Part Examined  \n",
              "0                NaN                NaN  \n",
              "1                yes            ABDOMEN  \n",
              "\n",
              "[2 rows x 26 columns]"
            ]
          },
          "execution_count": 10,
          "metadata": {},
          "output_type": "execute_result"
        }
      ],
      "source": [
        "nbia.downloadSeries([refSeries, segSeries], input_type= \"list\", format = \"df\")"
      ]
    },
    {
      "cell_type": "markdown",
      "id": "SqRhk5xCNYsL",
      "metadata": {
        "id": "SqRhk5xCNYsL"
      },
      "source": [
        "Finally, we can look at the images and segmentation together.  You can move the slider to flip through the images and toggle the segmentation layer on/off."
      ]
    },
    {
      "cell_type": "code",
      "execution_count": 11,
      "id": "qZmqZmcgNYsL",
      "metadata": {
        "colab": {
          "base_uri": "https://localhost:8080/",
          "height": 531,
          "referenced_widgets": [
            "1e7714f2e3c848d3b55376c6351c6679",
            "6e9bf4687ce441289df5fc810917e9fb",
            "d3f6292673bc44c4aa332a44a65a8af5",
            "63fd4378dcb5465ba4261c471113b15c",
            "3f8b5ab86beb42e7825ccd235c05b6dd",
            "93f209961f644a33988758530430ad4d",
            "ec118e0919c34324a8dfa976508ff51c",
            "e07019207f224308a6823e963524fe3b",
            "d20e3caef3c946f8831d6bffbe96f2b8",
            "40b73a10bbdc469ea3a2f426d487dd74",
            "6870b07088d746a48353c026ab02006a",
            "5d621c69e4d24ecf9c00b51b1adb36c0",
            "f8e7f3b0240c4d3bb9874c08ed5d2b6e"
          ]
        },
        "id": "qZmqZmcgNYsL",
        "outputId": "a0177d2c-bb8f-4ffd-fa2b-fed01b2d3720"
      },
      "outputs": [
        {
          "data": {
            "application/vnd.jupyter.widget-view+json": {
              "model_id": "1e7714f2e3c848d3b55376c6351c6679",
              "version_major": 2,
              "version_minor": 0
            },
            "text/plain": [
              "interactive(children=(Checkbox(value=False, description='suppress_warnings'), IntSlider(value=375, description…"
            ]
          },
          "metadata": {},
          "output_type": "display_data"
        }
      ],
      "source": [
        "nbia.viewSeriesAnnotation(seriesUid = refSeries, annotationUid = segSeries)"
      ]
    },
    {
      "cell_type": "code",
      "execution_count": 48,
      "id": "J7QSjIjYZbUE",
      "metadata": {
        "colab": {
          "base_uri": "https://localhost:8080/"
        },
        "id": "J7QSjIjYZbUE",
        "outputId": "72946367-3e4b-4238-e63d-263a8eea9775"
      },
      "outputs": [
        {
          "name": "stdout",
          "output_type": "stream",
          "text": [
            "1.3.6.1.4.1.14519.5.2.1.6450.2626.646366290968362266256965356421\n"
          ]
        }
      ],
      "source": [
        "##for reading DCM metadata\n",
        "\n",
        "from pydicom import dcmread\n",
        "\n",
        "ds = dcmread('/content/1-1.dcm')\n",
        "\n",
        "ds_ = ds[0x3006, 0x0010][0]\n",
        "ds_ = ds_[0x3006, 0x0012][0]\n",
        "ds_ = ds_[0x3006, 0x0014][0]\n",
        "ds_ = ds_[0x0020, 0x000e].value\n",
        "# ds_ = ds_[0x3006, 0x0014]\n",
        "print( ds_)\n",
        "\n",
        "# dsl = [ (str(element)[:12], element) for element in ds]\n",
        "# for _,seq in dsl:\n",
        "#   if _=='(3006, 0080)':\n",
        "#     for element in seq:\n",
        "#       print( element)"
      ]
    }
  ],
  "metadata": {
    "colab": {
      "provenance": []
    },
    "kernelspec": {
      "display_name": "smartbio",
      "language": "python",
      "name": "python3"
    },
    "language_info": {
      "codemirror_mode": {
        "name": "ipython",
        "version": 3
      },
      "file_extension": ".py",
      "mimetype": "text/x-python",
      "name": "python",
      "nbconvert_exporter": "python",
      "pygments_lexer": "ipython3",
      "version": "3.9.16"
    },
    "widgets": {
      "application/vnd.jupyter.widget-state+json": {
        "1e7714f2e3c848d3b55376c6351c6679": {
          "model_module": "@jupyter-widgets/controls",
          "model_module_version": "1.5.0",
          "model_name": "VBoxModel",
          "state": {
            "_dom_classes": [
              "widget-interact"
            ],
            "_model_module": "@jupyter-widgets/controls",
            "_model_module_version": "1.5.0",
            "_model_name": "VBoxModel",
            "_view_count": null,
            "_view_module": "@jupyter-widgets/controls",
            "_view_module_version": "1.5.0",
            "_view_name": "VBoxView",
            "box_style": "",
            "children": [
              "IPY_MODEL_6e9bf4687ce441289df5fc810917e9fb",
              "IPY_MODEL_d3f6292673bc44c4aa332a44a65a8af5",
              "IPY_MODEL_63fd4378dcb5465ba4261c471113b15c",
              "IPY_MODEL_3f8b5ab86beb42e7825ccd235c05b6dd"
            ],
            "layout": "IPY_MODEL_93f209961f644a33988758530430ad4d"
          }
        },
        "3f8b5ab86beb42e7825ccd235c05b6dd": {
          "model_module": "@jupyter-widgets/output",
          "model_module_version": "1.0.0",
          "model_name": "OutputModel",
          "state": {
            "_dom_classes": [],
            "_model_module": "@jupyter-widgets/output",
            "_model_module_version": "1.0.0",
            "_model_name": "OutputModel",
            "_view_count": null,
            "_view_module": "@jupyter-widgets/output",
            "_view_module_version": "1.0.0",
            "_view_name": "OutputView",
            "layout": "IPY_MODEL_f8e7f3b0240c4d3bb9874c08ed5d2b6e",
            "msg_id": "",
            "outputs": [
              {
                "data": {
                  "image/png": "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\n",
                  "text/plain": "<Figure size 640x480 with 1 Axes>"
                },
                "metadata": {},
                "output_type": "display_data"
              }
            ]
          }
        },
        "40b73a10bbdc469ea3a2f426d487dd74": {
          "model_module": "@jupyter-widgets/controls",
          "model_module_version": "1.5.0",
          "model_name": "SliderStyleModel",
          "state": {
            "_model_module": "@jupyter-widgets/controls",
            "_model_module_version": "1.5.0",
            "_model_name": "SliderStyleModel",
            "_view_count": null,
            "_view_module": "@jupyter-widgets/base",
            "_view_module_version": "1.2.0",
            "_view_name": "StyleView",
            "description_width": "",
            "handle_color": null
          }
        },
        "5d621c69e4d24ecf9c00b51b1adb36c0": {
          "model_module": "@jupyter-widgets/controls",
          "model_module_version": "1.5.0",
          "model_name": "DescriptionStyleModel",
          "state": {
            "_model_module": "@jupyter-widgets/controls",
            "_model_module_version": "1.5.0",
            "_model_name": "DescriptionStyleModel",
            "_view_count": null,
            "_view_module": "@jupyter-widgets/base",
            "_view_module_version": "1.2.0",
            "_view_name": "StyleView",
            "description_width": ""
          }
        },
        "63fd4378dcb5465ba4261c471113b15c": {
          "model_module": "@jupyter-widgets/controls",
          "model_module_version": "1.5.0",
          "model_name": "CheckboxModel",
          "state": {
            "_dom_classes": [],
            "_model_module": "@jupyter-widgets/controls",
            "_model_module_version": "1.5.0",
            "_model_name": "CheckboxModel",
            "_view_count": null,
            "_view_module": "@jupyter-widgets/controls",
            "_view_module_version": "1.5.0",
            "_view_name": "CheckboxView",
            "description": "1 - UTERUS - 1",
            "description_tooltip": null,
            "disabled": false,
            "indent": true,
            "layout": "IPY_MODEL_6870b07088d746a48353c026ab02006a",
            "style": "IPY_MODEL_5d621c69e4d24ecf9c00b51b1adb36c0",
            "value": true
          }
        },
        "6870b07088d746a48353c026ab02006a": {
          "model_module": "@jupyter-widgets/base",
          "model_module_version": "1.2.0",
          "model_name": "LayoutModel",
          "state": {
            "_model_module": "@jupyter-widgets/base",
            "_model_module_version": "1.2.0",
            "_model_name": "LayoutModel",
            "_view_count": null,
            "_view_module": "@jupyter-widgets/base",
            "_view_module_version": "1.2.0",
            "_view_name": "LayoutView",
            "align_content": null,
            "align_items": null,
            "align_self": null,
            "border": null,
            "bottom": null,
            "display": null,
            "flex": null,
            "flex_flow": null,
            "grid_area": null,
            "grid_auto_columns": null,
            "grid_auto_flow": null,
            "grid_auto_rows": null,
            "grid_column": null,
            "grid_gap": null,
            "grid_row": null,
            "grid_template_areas": null,
            "grid_template_columns": null,
            "grid_template_rows": null,
            "height": null,
            "justify_content": null,
            "justify_items": null,
            "left": null,
            "margin": null,
            "max_height": null,
            "max_width": null,
            "min_height": null,
            "min_width": null,
            "object_fit": null,
            "object_position": null,
            "order": null,
            "overflow": null,
            "overflow_x": null,
            "overflow_y": null,
            "padding": null,
            "right": null,
            "top": null,
            "visibility": null,
            "width": null
          }
        },
        "6e9bf4687ce441289df5fc810917e9fb": {
          "model_module": "@jupyter-widgets/controls",
          "model_module_version": "1.5.0",
          "model_name": "CheckboxModel",
          "state": {
            "_dom_classes": [],
            "_model_module": "@jupyter-widgets/controls",
            "_model_module_version": "1.5.0",
            "_model_name": "CheckboxModel",
            "_view_count": null,
            "_view_module": "@jupyter-widgets/controls",
            "_view_module_version": "1.5.0",
            "_view_name": "CheckboxView",
            "description": "suppress_warnings",
            "description_tooltip": null,
            "disabled": false,
            "indent": true,
            "layout": "IPY_MODEL_ec118e0919c34324a8dfa976508ff51c",
            "style": "IPY_MODEL_e07019207f224308a6823e963524fe3b",
            "value": false
          }
        },
        "93f209961f644a33988758530430ad4d": {
          "model_module": "@jupyter-widgets/base",
          "model_module_version": "1.2.0",
          "model_name": "LayoutModel",
          "state": {
            "_model_module": "@jupyter-widgets/base",
            "_model_module_version": "1.2.0",
            "_model_name": "LayoutModel",
            "_view_count": null,
            "_view_module": "@jupyter-widgets/base",
            "_view_module_version": "1.2.0",
            "_view_name": "LayoutView",
            "align_content": null,
            "align_items": null,
            "align_self": null,
            "border": null,
            "bottom": null,
            "display": null,
            "flex": null,
            "flex_flow": null,
            "grid_area": null,
            "grid_auto_columns": null,
            "grid_auto_flow": null,
            "grid_auto_rows": null,
            "grid_column": null,
            "grid_gap": null,
            "grid_row": null,
            "grid_template_areas": null,
            "grid_template_columns": null,
            "grid_template_rows": null,
            "height": null,
            "justify_content": null,
            "justify_items": null,
            "left": null,
            "margin": null,
            "max_height": null,
            "max_width": null,
            "min_height": null,
            "min_width": null,
            "object_fit": null,
            "object_position": null,
            "order": null,
            "overflow": null,
            "overflow_x": null,
            "overflow_y": null,
            "padding": null,
            "right": null,
            "top": null,
            "visibility": null,
            "width": null
          }
        },
        "d20e3caef3c946f8831d6bffbe96f2b8": {
          "model_module": "@jupyter-widgets/base",
          "model_module_version": "1.2.0",
          "model_name": "LayoutModel",
          "state": {
            "_model_module": "@jupyter-widgets/base",
            "_model_module_version": "1.2.0",
            "_model_name": "LayoutModel",
            "_view_count": null,
            "_view_module": "@jupyter-widgets/base",
            "_view_module_version": "1.2.0",
            "_view_name": "LayoutView",
            "align_content": null,
            "align_items": null,
            "align_self": null,
            "border": null,
            "bottom": null,
            "display": null,
            "flex": null,
            "flex_flow": null,
            "grid_area": null,
            "grid_auto_columns": null,
            "grid_auto_flow": null,
            "grid_auto_rows": null,
            "grid_column": null,
            "grid_gap": null,
            "grid_row": null,
            "grid_template_areas": null,
            "grid_template_columns": null,
            "grid_template_rows": null,
            "height": null,
            "justify_content": null,
            "justify_items": null,
            "left": null,
            "margin": null,
            "max_height": null,
            "max_width": null,
            "min_height": null,
            "min_width": null,
            "object_fit": null,
            "object_position": null,
            "order": null,
            "overflow": null,
            "overflow_x": null,
            "overflow_y": null,
            "padding": null,
            "right": null,
            "top": null,
            "visibility": null,
            "width": null
          }
        },
        "d3f6292673bc44c4aa332a44a65a8af5": {
          "model_module": "@jupyter-widgets/controls",
          "model_module_version": "1.5.0",
          "model_name": "IntSliderModel",
          "state": {
            "_dom_classes": [],
            "_model_module": "@jupyter-widgets/controls",
            "_model_module_version": "1.5.0",
            "_model_name": "IntSliderModel",
            "_view_count": null,
            "_view_module": "@jupyter-widgets/controls",
            "_view_module_version": "1.5.0",
            "_view_name": "IntSliderView",
            "continuous_update": true,
            "description": "x",
            "description_tooltip": null,
            "disabled": false,
            "layout": "IPY_MODEL_d20e3caef3c946f8831d6bffbe96f2b8",
            "max": 750,
            "min": 0,
            "orientation": "horizontal",
            "readout": true,
            "readout_format": "d",
            "step": 1,
            "style": "IPY_MODEL_40b73a10bbdc469ea3a2f426d487dd74",
            "value": 750
          }
        },
        "e07019207f224308a6823e963524fe3b": {
          "model_module": "@jupyter-widgets/controls",
          "model_module_version": "1.5.0",
          "model_name": "DescriptionStyleModel",
          "state": {
            "_model_module": "@jupyter-widgets/controls",
            "_model_module_version": "1.5.0",
            "_model_name": "DescriptionStyleModel",
            "_view_count": null,
            "_view_module": "@jupyter-widgets/base",
            "_view_module_version": "1.2.0",
            "_view_name": "StyleView",
            "description_width": ""
          }
        },
        "ec118e0919c34324a8dfa976508ff51c": {
          "model_module": "@jupyter-widgets/base",
          "model_module_version": "1.2.0",
          "model_name": "LayoutModel",
          "state": {
            "_model_module": "@jupyter-widgets/base",
            "_model_module_version": "1.2.0",
            "_model_name": "LayoutModel",
            "_view_count": null,
            "_view_module": "@jupyter-widgets/base",
            "_view_module_version": "1.2.0",
            "_view_name": "LayoutView",
            "align_content": null,
            "align_items": null,
            "align_self": null,
            "border": null,
            "bottom": null,
            "display": null,
            "flex": null,
            "flex_flow": null,
            "grid_area": null,
            "grid_auto_columns": null,
            "grid_auto_flow": null,
            "grid_auto_rows": null,
            "grid_column": null,
            "grid_gap": null,
            "grid_row": null,
            "grid_template_areas": null,
            "grid_template_columns": null,
            "grid_template_rows": null,
            "height": null,
            "justify_content": null,
            "justify_items": null,
            "left": null,
            "margin": null,
            "max_height": null,
            "max_width": null,
            "min_height": null,
            "min_width": null,
            "object_fit": null,
            "object_position": null,
            "order": null,
            "overflow": null,
            "overflow_x": null,
            "overflow_y": null,
            "padding": null,
            "right": null,
            "top": null,
            "visibility": null,
            "width": null
          }
        },
        "f8e7f3b0240c4d3bb9874c08ed5d2b6e": {
          "model_module": "@jupyter-widgets/base",
          "model_module_version": "1.2.0",
          "model_name": "LayoutModel",
          "state": {
            "_model_module": "@jupyter-widgets/base",
            "_model_module_version": "1.2.0",
            "_model_name": "LayoutModel",
            "_view_count": null,
            "_view_module": "@jupyter-widgets/base",
            "_view_module_version": "1.2.0",
            "_view_name": "LayoutView",
            "align_content": null,
            "align_items": null,
            "align_self": null,
            "border": null,
            "bottom": null,
            "display": null,
            "flex": null,
            "flex_flow": null,
            "grid_area": null,
            "grid_auto_columns": null,
            "grid_auto_flow": null,
            "grid_auto_rows": null,
            "grid_column": null,
            "grid_gap": null,
            "grid_row": null,
            "grid_template_areas": null,
            "grid_template_columns": null,
            "grid_template_rows": null,
            "height": null,
            "justify_content": null,
            "justify_items": null,
            "left": null,
            "margin": null,
            "max_height": null,
            "max_width": null,
            "min_height": null,
            "min_width": null,
            "object_fit": null,
            "object_position": null,
            "order": null,
            "overflow": null,
            "overflow_x": null,
            "overflow_y": null,
            "padding": null,
            "right": null,
            "top": null,
            "visibility": null,
            "width": null
          }
        }
      }
    }
  },
  "nbformat": 4,
  "nbformat_minor": 5
}
